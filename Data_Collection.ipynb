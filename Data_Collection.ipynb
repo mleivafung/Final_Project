{
 "cells": [
  {
   "cell_type": "markdown",
   "id": "5b0c9d4a",
   "metadata": {},
   "source": [
    "# <span style='color:White'><span style='background :Blue' > ALL TIME HIGHEST-GROSSING MOVIES WORLDWIDE ANALYSIS  </span></span> \n",
    "---"
   ]
  },
  {
   "cell_type": "markdown",
   "id": "82428bbf",
   "metadata": {},
   "source": [
    "## <span style='color:White'><span style='background :Red' > Data Collection  </span></span>\n",
    "\n",
    "### <span style='color:White'><span style='background :Black' > Function: </span></span>  integer_verifier()\n",
    "To retrieve the data we need first to define the length of the movie list, having a size limit of 1000 items. This is an auxiliary function that will help verify that the user introduce the correct input (an integer between 1 and 0 inclusive)."
   ]
  },
  {
   "cell_type": "code",
   "execution_count": null,
   "id": "556cda3e",
   "metadata": {},
   "outputs": [],
   "source": [
    "def integer_verifier(number, start, end):\n",
    "    \"\"\"\n",
    "    Verify that input is an integer in specified range (of integers).\n",
    "    \n",
    "    Parameters\n",
    "    ----------\n",
    "    number: integer - Value to verify\n",
    "    start:  integer - Lower limit of range\n",
    "    end:    integer - Upper limit of range\n",
    "    \n",
    "    Result\n",
    "    ----------\n",
    "    Boolean: True if integer in range, otherwise False\n",
    "    \n",
    "    \"\"\"\n",
    "    #Verify that range is ok.\n",
    "    if isinstance(start, int) == False or isinstance(end, int) == False:\n",
    "        print(\"Range must be between two integers.\")\n",
    "        return ''\n",
    "    elif (start>end):\n",
    "        print(\"Check that start is not a higher number than end.\")\n",
    "        return ''\n",
    "    else:\n",
    "    #Verify that number is intenger in range.\n",
    "        if isinstance(number, int) == False or (number<start) or (number>end):\n",
    "            result = False\n",
    "        else:\n",
    "            result = True\n",
    "    return result"
   ]
  },
  {
   "cell_type": "markdown",
   "id": "cd2950d5",
   "metadata": {},
   "source": [
    "### <span style='color:White'><span style='background :Black' > Function: </span></span>  movie_table()\n",
    "As a next step we need to retrieve the list of highest grossing movies from Box Office Mojo. As previously mentioned, the source can give us a list of up to 1000 items. Using the integer_verifier() function we make sure that the input is correct. After that, depending on the input, we are able to retrieve the corresponding list from different links (as each page of the source contains 200 items).\n",
    "\n",
    "**Note:** For this, we require to import read_html and defines the links. The latter are included already in secret.py file."
   ]
  },
  {
   "cell_type": "code",
   "execution_count": null,
   "id": "a22ee1e9",
   "metadata": {},
   "outputs": [],
   "source": [
    "from pandas.io.html import read_html"
   ]
  },
  {
   "cell_type": "code",
   "execution_count": null,
   "id": "0e61a8ac",
   "metadata": {},
   "outputs": [],
   "source": [
    "from secret import *"
   ]
  },
  {
   "cell_type": "code",
   "execution_count": null,
   "id": "bd21e1ad",
   "metadata": {},
   "outputs": [],
   "source": [
    "def movie_table(movie_length):\n",
    "    \"\"\"\n",
    "    Return table of highest grossing movies from Box Office Mojo.\n",
    "    Length of table can go from 1 to 1000 items.\n",
    "    \n",
    "    Parameters\n",
    "    ----------\n",
    "    movie_length: integer - Length of table\n",
    "    \n",
    "    Result\n",
    "    ----------\n",
    "    DataFrame: Table of size X obtained from Box Office Mojo\n",
    "    \n",
    "    \"\"\"\n",
    "    #This function supports movie_list() so input should be valid already.\n",
    "    #Still, in case it is used separately, it will just return with no input.\n",
    "    if integer_verifier(movie_length, 1, 1000) == False:\n",
    "        print('Movie_length must be an integer between 1 and 1000 inclusive.')\n",
    "        return \n",
    "    #Table will add elements depending on selected length.\n",
    "    if movie_length<=200:\n",
    "        table1 = read_html(link1, index_col=0, attrs = {'class':'a-bordered'})[0]\n",
    "    elif (movie_length>200) and (movie_length<=400):\n",
    "        table1 = read_html(link1, index_col=0, attrs = {'class':'a-bordered'})[0]\n",
    "        table2 = read_html(link2, index_col=0, attrs = {'class':'a-bordered'})[0]\n",
    "        table1 = table1.append(table2)\n",
    "    elif (movie_length>400) and (movie_length<=600):\n",
    "        table1 = read_html(link1, index_col=0, attrs = {'class':'a-bordered'})[0]\n",
    "        table2 = read_html(link2, index_col=0, attrs = {'class':'a-bordered'})[0]\n",
    "        table3 = read_html(link3, index_col=0, attrs = {'class':'a-bordered'})[0]\n",
    "        table1 = table1.append(table2)\n",
    "        table1 = table1.append(table3)\n",
    "    elif (movie_length>600) and (movie_length<=800):\n",
    "        table1 = read_html(link1, index_col=0, attrs = {'class':'a-bordered'})[0]\n",
    "        table2 = read_html(link2, index_col=0, attrs = {'class':'a-bordered'})[0]\n",
    "        table3 = read_html(link3, index_col=0, attrs = {'class':'a-bordered'})[0]        \n",
    "        table4 = read_html(link4, index_col=0, attrs = {'class':'a-bordered'})[0]\n",
    "        table1 = table1.append(table2)\n",
    "        table1 = table1.append(table3)\n",
    "        table1 = table1.append(table4)\n",
    "    elif (movie_length>800):\n",
    "        table1 = read_html(link1, index_col=0, attrs = {'class':'a-bordered'})[0]\n",
    "        table2 = read_html(link2, index_col=0, attrs = {'class':'a-bordered'})[0]\n",
    "        table3 = read_html(link3, index_col=0, attrs = {'class':'a-bordered'})[0]        \n",
    "        table4 = read_html(link4, index_col=0, attrs = {'class':'a-bordered'})[0]\n",
    "        table5 = read_html(link5, index_col=0, attrs = {'class':'a-bordered'})[0]\n",
    "        table1 = table1.append(table2)\n",
    "        table1 = table1.append(table3)\n",
    "        table1 = table1.append(table4)\n",
    "        table1 = table1.append(table5)\n",
    "    #Limit table accordingly.\n",
    "    list_of_movies = table1[0:movie_length]\n",
    "    #There is one particular correction that must be made for an specific movie:\n",
    "    list_of_movies = list_of_movies.replace(['Fantastic Four: Rise of the Silver Surfer'],'Fantastic_4')\n",
    "    return list_of_movies"
   ]
  },
  {
   "cell_type": "markdown",
   "id": "0be66934",
   "metadata": {},
   "source": [
    "### <span style='color:White'><span style='background :Black' > Function: </span></span>  movie_list()\n",
    "Finally, to fully collect all data we make one final function that incorportates the previous one. This one make use of the list of movies from movie_table() to go movie by movie collecting data from the OMDb API and storing it in a DataFrame. We must take into account that we are only selecting information we consider relevant and still requires to be processed.\n",
    "\n",
    "**Note:** For this, we require to import requests, json and re. Additionaly, we make use of the corresponding API key already imported from secret.py file."
   ]
  },
  {
   "cell_type": "code",
   "execution_count": null,
   "id": "54880698",
   "metadata": {},
   "outputs": [],
   "source": [
    "import requests, json, re"
   ]
  },
  {
   "cell_type": "code",
   "execution_count": null,
   "id": "695bd40c",
   "metadata": {},
   "outputs": [],
   "source": [
    "def movie_list(movie_length):\n",
    "    \"\"\"\n",
    "    Return list of highest grossing movies (worlwide).\n",
    "    Length of list in the range [1;1000] dependent on user.\n",
    "    Includes data retrieved from IMDb API.\n",
    "    \n",
    "    Parameters\n",
    "    ----------\n",
    "    movie_length: integer - Length of table\n",
    "    \n",
    "    Result\n",
    "    ----------\n",
    "    DataFrame: Table with movie data from Box Office Mojo and OMDb API\n",
    "    \n",
    "    \"\"\"\n",
    "    #Use integer_verifier() to check user has introduce adequate input.\n",
    "    if integer_verifier(movie_length, 1, 1000) == False:\n",
    "        return print(\"Please indicate an integer between 1 and 1000.\")\n",
    "    else:\n",
    "        #If input is correct, then movie_list is generated.\n",
    "        list_of_movies = movie_table(movie_length)\n",
    "        list_of_movies = list_of_movies.drop(\"Year\", axis = 1)\n",
    "        #Additional fields are created to store additional data from API.\n",
    "        fields = ['Rated', 'Released', 'Runtime', 'Genre', 'Director', 'Writer', 'Actors', 'Plot', 'Language', 'Country', 'Awards', 'imdbRating','Poster']\n",
    "        for field in fields:\n",
    "            list_of_movies[field] = None\n",
    "    #Retrieve data from API and store it.\n",
    "    for i in range(0,len(list_of_movies)):\n",
    "        #Get data from IMDb API.\n",
    "        api_link = f'https://www.omdbapi.com/?apikey={apiKey}&t={list_of_movies.iloc[i][0]}&plot=full'\n",
    "        api_data = json.loads(requests.get(api_link).text)\n",
    "        for field in fields:\n",
    "            #Copy data into dataframe.\n",
    "            list_of_movies[field][i+1] = api_data[field]\n",
    "    #There is one particular correction that must be made for an specific movie:\n",
    "    list_of_movies = list_of_movies.replace(['Fantastic_4'],'Fantastic Four: Rise of the Silver Surfer')\n",
    "    return list_of_movies"
   ]
  },
  {
   "cell_type": "markdown",
   "id": "fdaef8f8",
   "metadata": {},
   "source": [
    "For the following part we are going to work with full data, reason why we store it in a new variable: **top_movies**."
   ]
  },
  {
   "cell_type": "code",
   "execution_count": null,
   "id": "b049fc40",
   "metadata": {},
   "outputs": [],
   "source": [
    "top_movies = movie_list(1000)\n",
    "top_movies"
   ]
  },
  {
   "cell_type": "markdown",
   "id": "d3912f3b",
   "metadata": {},
   "source": [
    "In case the user requires to download the data into an .xlsx file just run the following lines. It may help later with processing time in case they want to work with already retrieved data.\n",
    "\n",
    "**Note:** It requires the use of pandas to read back the generated file."
   ]
  },
  {
   "cell_type": "code",
   "execution_count": null,
   "id": "fc9ff475",
   "metadata": {},
   "outputs": [],
   "source": [
    "import pandas as pd"
   ]
  },
  {
   "cell_type": "code",
   "execution_count": null,
   "id": "47c736ef",
   "metadata": {},
   "outputs": [],
   "source": [
    "top_movies.to_excel('Top_Grossing_Films.xlsx',header=True)\n",
    "#pd.read_excel('Top_Grossing_Films.xlsx', index_col=0)"
   ]
  }
 ],
 "metadata": {
  "kernelspec": {
   "display_name": "Python 3",
   "language": "python",
   "name": "python3"
  },
  "language_info": {
   "codemirror_mode": {
    "name": "ipython",
    "version": 3
   },
   "file_extension": ".py",
   "mimetype": "text/x-python",
   "name": "python",
   "nbconvert_exporter": "python",
   "pygments_lexer": "ipython3",
   "version": "3.8.8"
  }
 },
 "nbformat": 4,
 "nbformat_minor": 5
}
